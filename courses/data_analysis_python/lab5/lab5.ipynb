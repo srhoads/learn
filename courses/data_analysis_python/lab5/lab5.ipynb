{
 "cells": [
  {
   "cell_type": "markdown",
   "metadata": {},
   "source": [
    "## Lab 5\n",
    "\n",
    "## 1. Run a multiple linear probability model (have at least 2 Xs in the model).  Tell me how you think your independent variables will affect your dependent variable.  Interpret your results.  Were your expectations correct?  Why or why not?\n",
    "\n",
    "## 2. Run a multiple (binary) logistic model.  (It can be the same as the above LPM or a new model.)  If it is a new model, tell me how you think your independent variables will affect your dependent variable.  Interpret your results in the logit scale.  Were your expectations correct?  Why or why not?\n",
    "\n",
    "## 3. Get odds ratios from your logit model in Question 2 and interpret some of them.  \n",
    "\n",
    "## 4. Extra Credit: Get predicted probabilities from your logit model in Question 2 for some constellations of X values and interpret the results.  "
   ]
  },
  {
   "cell_type": "code",
   "execution_count": 27,
   "metadata": {},
   "outputs": [],
   "source": [
    "# importing relevant modules...\n",
    "from __future__ import division\n",
    "import pandas as pd\n",
    "import numpy as np\n",
    "import re, os\n",
    "import statsmodels.api as sm\n",
    "import statsmodels.formula.api as smf\n",
    "import matplotlib.pyplot as plt\n",
    "import seaborn as sns #os.system('pip install seaborn')\n",
    "from scipy import stats\n",
    "\n",
    "# defining helper functions for later in my code\n",
    "def recode_onehot_if(s='CHILDRENS COAT', pattern='CHILDREN'):\n",
    "    result = '1' if pattern in str(s) else '0'\n",
    "    return(result)"
   ]
  },
  {
   "cell_type": "markdown",
   "metadata": {},
   "source": [
    "#### Using the similar kaggle dataset again that i used in lab4 on forbes billionaires 2021. You can see the specific variables and observations in my code output below!"
   ]
  },
  {
   "cell_type": "code",
   "execution_count": 29,
   "metadata": {},
   "outputs": [
    {
     "data": {
      "text/plain": [
       "0"
      ]
     },
     "execution_count": 29,
     "metadata": {},
     "output_type": "execute_result"
    }
   ],
   "source": [
    "# Below, I'm automatically pulling the Kaggle dataset from the online URL.\n",
    "os.system('kaggle datasets download alexanderbader/forbes-billionaires-of-2021-20/forbes_billionaires.csv')\n",
    "import zipfile \n",
    "archive = zipfile.ZipFile('forbes-billionaires-of-2021-20.zip')\n",
    "filename = archive.filelist[0].filename\n",
    "xlfile = archive.open(filename)\n",
    "df = pd.read_csv(xlfile)\n",
    "os.system(\"rm forbes-billionaires-of-2021-20.zip\")"
   ]
  },
  {
   "cell_type": "code",
   "execution_count": 4,
   "metadata": {},
   "outputs": [
    {
     "name": "stdout",
     "output_type": "stream",
     "text": [
      "Married               1734\n",
      "Divorced               144\n",
      "Widowed                 95\n",
      "Single                  74\n",
      "In Relationship         21\n",
      "Separated               10\n",
      "Widowed, Remarried       8\n",
      "Engaged                  4\n",
      "Name: Status, dtype: int64\n",
      "In Relationship    1767\n",
      "Single              323\n",
      "Name: relationship_or_single, dtype: int64\n",
      "Bachelor                                                                                     789\n",
      "Master                                                                                       334\n",
      "Doctor                                                                                        85\n",
      "Drop Out                                                                                      66\n",
      "High School                                                                                   41\n",
      "                                                                                            ... \n",
      "Liaoning University                                                                            1\n",
      "Chartered Accountant, Institute of Chartered Accountants of India; B.Com, Pune University      1\n",
      "Diploma, Baku Institute of Law                                                                 1\n",
      "Associate in Arts/Science, Bombay University                                                   1\n",
      "Jiangsu Province Wujin Teacher School                                                          1\n",
      "Name: education_status, Length: 94, dtype: int64\n",
      "['Name', 'NetWorth', 'Country', 'Source', 'Rank', 'Age', 'Residence', 'Citizenship', 'Status', 'Children', 'Education', 'Self_made', 'education_status', 'high_ed_grad', 'relationship_or_single']\n"
     ]
    },
    {
     "data": {
      "text/html": [
       "<div>\n",
       "<style scoped>\n",
       "    .dataframe tbody tr th:only-of-type {\n",
       "        vertical-align: middle;\n",
       "    }\n",
       "\n",
       "    .dataframe tbody tr th {\n",
       "        vertical-align: top;\n",
       "    }\n",
       "\n",
       "    .dataframe thead th {\n",
       "        text-align: right;\n",
       "    }\n",
       "</style>\n",
       "<table border=\"1\" class=\"dataframe\">\n",
       "  <thead>\n",
       "    <tr style=\"text-align: right;\">\n",
       "      <th></th>\n",
       "      <th>Name</th>\n",
       "      <th>NetWorth</th>\n",
       "      <th>Country</th>\n",
       "      <th>Source</th>\n",
       "      <th>Rank</th>\n",
       "      <th>Age</th>\n",
       "      <th>Residence</th>\n",
       "      <th>Citizenship</th>\n",
       "      <th>Status</th>\n",
       "      <th>Children</th>\n",
       "      <th>Education</th>\n",
       "      <th>Self_made</th>\n",
       "      <th>education_status</th>\n",
       "      <th>high_ed_grad</th>\n",
       "      <th>relationship_or_single</th>\n",
       "    </tr>\n",
       "  </thead>\n",
       "  <tbody>\n",
       "    <tr>\n",
       "      <th>0</th>\n",
       "      <td>Jeff Bezos</td>\n",
       "      <td>177.0</td>\n",
       "      <td>United States</td>\n",
       "      <td>Amazon</td>\n",
       "      <td>1</td>\n",
       "      <td>57.0</td>\n",
       "      <td>Seattle, Washington</td>\n",
       "      <td>United States</td>\n",
       "      <td>In Relationship</td>\n",
       "      <td>4.0</td>\n",
       "      <td>Bachelor of Arts/Science, Princeton University</td>\n",
       "      <td>True</td>\n",
       "      <td>Bachelor</td>\n",
       "      <td>No Higher Education Grad</td>\n",
       "      <td>In Relationship</td>\n",
       "    </tr>\n",
       "    <tr>\n",
       "      <th>1</th>\n",
       "      <td>Elon Musk</td>\n",
       "      <td>151.0</td>\n",
       "      <td>United States</td>\n",
       "      <td>Tesla, SpaceX</td>\n",
       "      <td>2</td>\n",
       "      <td>49.0</td>\n",
       "      <td>Austin, Texas</td>\n",
       "      <td>United States</td>\n",
       "      <td>In Relationship</td>\n",
       "      <td>7.0</td>\n",
       "      <td>Bachelor of Arts/Science, University of Pennsy...</td>\n",
       "      <td>True</td>\n",
       "      <td>Bachelor</td>\n",
       "      <td>No Higher Education Grad</td>\n",
       "      <td>In Relationship</td>\n",
       "    </tr>\n",
       "    <tr>\n",
       "      <th>2</th>\n",
       "      <td>Bernard Arnault &amp; family</td>\n",
       "      <td>150.0</td>\n",
       "      <td>France</td>\n",
       "      <td>LVMH</td>\n",
       "      <td>3</td>\n",
       "      <td>72.0</td>\n",
       "      <td>Paris, France</td>\n",
       "      <td>France</td>\n",
       "      <td>Married</td>\n",
       "      <td>5.0</td>\n",
       "      <td>Bachelor of Arts/Science, Ecole Polytechnique ...</td>\n",
       "      <td>False</td>\n",
       "      <td>Bachelor</td>\n",
       "      <td>No Higher Education Grad</td>\n",
       "      <td>In Relationship</td>\n",
       "    </tr>\n",
       "    <tr>\n",
       "      <th>3</th>\n",
       "      <td>Bill Gates</td>\n",
       "      <td>124.0</td>\n",
       "      <td>United States</td>\n",
       "      <td>Microsoft</td>\n",
       "      <td>4</td>\n",
       "      <td>65.0</td>\n",
       "      <td>Medina, Washington</td>\n",
       "      <td>United States</td>\n",
       "      <td>Divorced</td>\n",
       "      <td>3.0</td>\n",
       "      <td>Drop Out, Harvard University</td>\n",
       "      <td>True</td>\n",
       "      <td>Drop Out</td>\n",
       "      <td>No Higher Education Grad</td>\n",
       "      <td>Single</td>\n",
       "    </tr>\n",
       "    <tr>\n",
       "      <th>4</th>\n",
       "      <td>Mark Zuckerberg</td>\n",
       "      <td>97.0</td>\n",
       "      <td>United States</td>\n",
       "      <td>Facebook</td>\n",
       "      <td>5</td>\n",
       "      <td>36.0</td>\n",
       "      <td>Palo Alto, California</td>\n",
       "      <td>United States</td>\n",
       "      <td>Married</td>\n",
       "      <td>2.0</td>\n",
       "      <td>Drop Out, Harvard University</td>\n",
       "      <td>True</td>\n",
       "      <td>Drop Out</td>\n",
       "      <td>No Higher Education Grad</td>\n",
       "      <td>In Relationship</td>\n",
       "    </tr>\n",
       "    <tr>\n",
       "      <th>...</th>\n",
       "      <td>...</td>\n",
       "      <td>...</td>\n",
       "      <td>...</td>\n",
       "      <td>...</td>\n",
       "      <td>...</td>\n",
       "      <td>...</td>\n",
       "      <td>...</td>\n",
       "      <td>...</td>\n",
       "      <td>...</td>\n",
       "      <td>...</td>\n",
       "      <td>...</td>\n",
       "      <td>...</td>\n",
       "      <td>...</td>\n",
       "      <td>...</td>\n",
       "      <td>...</td>\n",
       "    </tr>\n",
       "    <tr>\n",
       "      <th>2750</th>\n",
       "      <td>Daniel Yong Zhang</td>\n",
       "      <td>1.0</td>\n",
       "      <td>China</td>\n",
       "      <td>e-commerce</td>\n",
       "      <td>2674</td>\n",
       "      <td>49.0</td>\n",
       "      <td>Hangzhou, China</td>\n",
       "      <td>China</td>\n",
       "      <td>NaN</td>\n",
       "      <td>NaN</td>\n",
       "      <td>NaN</td>\n",
       "      <td>True</td>\n",
       "      <td>NaN</td>\n",
       "      <td>No Higher Education Grad</td>\n",
       "      <td>NaN</td>\n",
       "    </tr>\n",
       "    <tr>\n",
       "      <th>2751</th>\n",
       "      <td>Zhang Yuqiang</td>\n",
       "      <td>1.0</td>\n",
       "      <td>China</td>\n",
       "      <td>Fiberglass</td>\n",
       "      <td>2674</td>\n",
       "      <td>65.0</td>\n",
       "      <td>Tongxiang, China</td>\n",
       "      <td>China</td>\n",
       "      <td>NaN</td>\n",
       "      <td>NaN</td>\n",
       "      <td>NaN</td>\n",
       "      <td>True</td>\n",
       "      <td>NaN</td>\n",
       "      <td>No Higher Education Grad</td>\n",
       "      <td>NaN</td>\n",
       "    </tr>\n",
       "    <tr>\n",
       "      <th>2752</th>\n",
       "      <td>Zhao Meiguang</td>\n",
       "      <td>1.0</td>\n",
       "      <td>China</td>\n",
       "      <td>gold mining</td>\n",
       "      <td>2674</td>\n",
       "      <td>58.0</td>\n",
       "      <td>Jilin, China</td>\n",
       "      <td>China</td>\n",
       "      <td>NaN</td>\n",
       "      <td>NaN</td>\n",
       "      <td>NaN</td>\n",
       "      <td>True</td>\n",
       "      <td>NaN</td>\n",
       "      <td>No Higher Education Grad</td>\n",
       "      <td>NaN</td>\n",
       "    </tr>\n",
       "    <tr>\n",
       "      <th>2753</th>\n",
       "      <td>Zhong Naixiong</td>\n",
       "      <td>1.0</td>\n",
       "      <td>China</td>\n",
       "      <td>conglomerate</td>\n",
       "      <td>2674</td>\n",
       "      <td>58.0</td>\n",
       "      <td>Foshan, China</td>\n",
       "      <td>China</td>\n",
       "      <td>NaN</td>\n",
       "      <td>NaN</td>\n",
       "      <td>NaN</td>\n",
       "      <td>True</td>\n",
       "      <td>NaN</td>\n",
       "      <td>No Higher Education Grad</td>\n",
       "      <td>NaN</td>\n",
       "    </tr>\n",
       "    <tr>\n",
       "      <th>2754</th>\n",
       "      <td>Zhou Wei family</td>\n",
       "      <td>1.0</td>\n",
       "      <td>China</td>\n",
       "      <td>Software</td>\n",
       "      <td>2674</td>\n",
       "      <td>54.0</td>\n",
       "      <td>Shanghai, China</td>\n",
       "      <td>China</td>\n",
       "      <td>Married</td>\n",
       "      <td>NaN</td>\n",
       "      <td>NaN</td>\n",
       "      <td>True</td>\n",
       "      <td>NaN</td>\n",
       "      <td>No Higher Education Grad</td>\n",
       "      <td>In Relationship</td>\n",
       "    </tr>\n",
       "  </tbody>\n",
       "</table>\n",
       "<p>2755 rows × 15 columns</p>\n",
       "</div>"
      ],
      "text/plain": [
       "                          Name  NetWorth        Country         Source  Rank  \\\n",
       "0                   Jeff Bezos     177.0  United States         Amazon     1   \n",
       "1                    Elon Musk     151.0  United States  Tesla, SpaceX     2   \n",
       "2     Bernard Arnault & family     150.0         France           LVMH     3   \n",
       "3                   Bill Gates     124.0  United States      Microsoft     4   \n",
       "4              Mark Zuckerberg      97.0  United States       Facebook     5   \n",
       "...                        ...       ...            ...            ...   ...   \n",
       "2750         Daniel Yong Zhang       1.0          China     e-commerce  2674   \n",
       "2751             Zhang Yuqiang       1.0          China     Fiberglass  2674   \n",
       "2752             Zhao Meiguang       1.0          China    gold mining  2674   \n",
       "2753            Zhong Naixiong       1.0          China   conglomerate  2674   \n",
       "2754           Zhou Wei family       1.0          China       Software  2674   \n",
       "\n",
       "       Age              Residence    Citizenship           Status  Children  \\\n",
       "0     57.0    Seattle, Washington  United States  In Relationship       4.0   \n",
       "1     49.0          Austin, Texas  United States  In Relationship       7.0   \n",
       "2     72.0          Paris, France         France          Married       5.0   \n",
       "3     65.0     Medina, Washington  United States         Divorced       3.0   \n",
       "4     36.0  Palo Alto, California  United States          Married       2.0   \n",
       "...    ...                    ...            ...              ...       ...   \n",
       "2750  49.0        Hangzhou, China          China              NaN       NaN   \n",
       "2751  65.0       Tongxiang, China          China              NaN       NaN   \n",
       "2752  58.0           Jilin, China          China              NaN       NaN   \n",
       "2753  58.0          Foshan, China          China              NaN       NaN   \n",
       "2754  54.0        Shanghai, China          China          Married       NaN   \n",
       "\n",
       "                                              Education Self_made  \\\n",
       "0        Bachelor of Arts/Science, Princeton University      True   \n",
       "1     Bachelor of Arts/Science, University of Pennsy...      True   \n",
       "2     Bachelor of Arts/Science, Ecole Polytechnique ...     False   \n",
       "3                          Drop Out, Harvard University      True   \n",
       "4                          Drop Out, Harvard University      True   \n",
       "...                                                 ...       ...   \n",
       "2750                                                NaN      True   \n",
       "2751                                                NaN      True   \n",
       "2752                                                NaN      True   \n",
       "2753                                                NaN      True   \n",
       "2754                                                NaN      True   \n",
       "\n",
       "     education_status              high_ed_grad relationship_or_single  \n",
       "0            Bachelor  No Higher Education Grad        In Relationship  \n",
       "1            Bachelor  No Higher Education Grad        In Relationship  \n",
       "2            Bachelor  No Higher Education Grad        In Relationship  \n",
       "3            Drop Out  No Higher Education Grad                 Single  \n",
       "4            Drop Out  No Higher Education Grad        In Relationship  \n",
       "...               ...                       ...                    ...  \n",
       "2750              NaN  No Higher Education Grad                    NaN  \n",
       "2751              NaN  No Higher Education Grad                    NaN  \n",
       "2752              NaN  No Higher Education Grad                    NaN  \n",
       "2753              NaN  No Higher Education Grad                    NaN  \n",
       "2754              NaN  No Higher Education Grad        In Relationship  \n",
       "\n",
       "[2755 rows x 15 columns]"
      ]
     },
     "execution_count": 4,
     "metadata": {},
     "output_type": "execute_result"
    }
   ],
   "source": [
    "df = df.assign(education_status = df.Education.str.replace('.*(Drop Out|Bachelor|Master|Doctor|High School).*', '\\\\1', regex=True),\n",
    "               high_ed_grad = df.Education.apply(lambda s: 'Higher Education Grad' if s in [''] else 'No Higher Education Grad'),\n",
    "               relationship_or_single = df.Status.astype(str).replace({'(Widowed$|Separated|Single|Divorced).*':'Single', '(Widowed,|In|Married|Engaged|Remarried).*':'In Relationship'}, regex=True).replace({'nan': np.nan}),\n",
    "              )\n",
    "print(df.Status.value_counts())\n",
    "print(df.relationship_or_single.value_counts())\n",
    "print(df.education_status.value_counts())\n",
    "print(df.columns.tolist())\n",
    "df"
   ]
  },
  {
   "cell_type": "code",
   "execution_count": 28,
   "metadata": {},
   "outputs": [
    {
     "name": "stdout",
     "output_type": "stream",
     "text": [
      "Columns in our data:\n",
      "\n",
      " ['Name', 'NetWorth', 'Country', 'Source', 'Rank', 'Age', 'Residence', 'Citizenship', 'Status', 'Children', 'Education', 'Self_made', 'education_status', 'high_ed_grad', 'relationship_or_single', 'relationship_indicator']\n"
     ]
    }
   ],
   "source": [
    "print(\"Columns in our data:\\n\\n\", df.columns.tolist())"
   ]
  },
  {
   "cell_type": "code",
   "execution_count": null,
   "metadata": {},
   "outputs": [],
   "source": []
  },
  {
   "cell_type": "markdown",
   "metadata": {},
   "source": [
    "# 1. Run a multiple linear probability model (have at least 2 Xs in the model).  Tell me how you think your independent variables will affect your dependent variable.  Interpret your results.  Were your expectations correct?  Why or why not?"
   ]
  },
  {
   "cell_type": "markdown",
   "metadata": {},
   "source": [
    "### The question is what are some things that predict how likely someone is to be in a romantic relationship.\n",
    "\n",
    "### I am going to recode to only look at if someone is \"in a relationship\" vs. everything else (AKA single)\n",
    "\n",
    "<!-- Dependent Variables: Net Worth \n",
    "Independent Variables: Age, Country  -->\n",
    "\n",
    "<b>Dependent Variables:</b> <code>Probability of...being in a relationship or single</code>\n",
    "<b>Independent Variables:</b> <code>Age, Self_made</code>\n",
    "\n",
    "<b>Hypothesis/expectations:</b>\n",
    "I expect that those who have started their own companies and made their wealth by themselves (not inherited from generations above), are more likely to be in relationships, regardless of their age. This seems to make theoretical sense to me because self-made folks probably have a uniquely good work ethic that might extend to their personal lives and the support of romantic partners might go hand in hand with their professional successes."
   ]
  },
  {
   "cell_type": "markdown",
   "metadata": {},
   "source": [
    "Below, I'm recoding the variable about relationship status as 1=In a Relationship versus 0=Not in a relationship (totally single)"
   ]
  },
  {
   "cell_type": "code",
   "execution_count": 26,
   "metadata": {},
   "outputs": [
    {
     "data": {
      "text/html": [
       "<div>\n",
       "<style scoped>\n",
       "    .dataframe tbody tr th:only-of-type {\n",
       "        vertical-align: middle;\n",
       "    }\n",
       "\n",
       "    .dataframe tbody tr th {\n",
       "        vertical-align: top;\n",
       "    }\n",
       "\n",
       "    .dataframe thead th {\n",
       "        text-align: right;\n",
       "    }\n",
       "</style>\n",
       "<table border=\"1\" class=\"dataframe\">\n",
       "  <thead>\n",
       "    <tr style=\"text-align: right;\">\n",
       "      <th>col_0</th>\n",
       "      <th>count</th>\n",
       "    </tr>\n",
       "    <tr>\n",
       "      <th>relationship_indicator</th>\n",
       "      <th></th>\n",
       "    </tr>\n",
       "  </thead>\n",
       "  <tbody>\n",
       "    <tr>\n",
       "      <th>0.0</th>\n",
       "      <td>323</td>\n",
       "    </tr>\n",
       "    <tr>\n",
       "      <th>1.0</th>\n",
       "      <td>1767</td>\n",
       "    </tr>\n",
       "  </tbody>\n",
       "</table>\n",
       "</div>"
      ],
      "text/plain": [
       "col_0                   count\n",
       "relationship_indicator       \n",
       "0.0                       323\n",
       "1.0                      1767"
      ]
     },
     "execution_count": 26,
     "metadata": {},
     "output_type": "execute_result"
    }
   ],
   "source": [
    "conditions = [\n",
    "    (df['relationship_or_single'] == 'In Relationship') ,\n",
    "    (df['relationship_or_single'] == 'Single'),\n",
    "]\n",
    "choices = [1, 0]\n",
    "df['relationship_indicator'] = np.select(conditions, choices, default=np.nan)\n",
    "pd.crosstab(index=df[\"relationship_indicator\"], columns=\"count\")  ## check that the recode worked okay (just like Eirich did in his sample lab)"
   ]
  },
  {
   "cell_type": "code",
   "execution_count": null,
   "metadata": {},
   "outputs": [],
   "source": []
  },
  {
   "cell_type": "markdown",
   "metadata": {},
   "source": [
    "### I'm subsetting the LPM on only people in the United States, just to make it more specific to the businesspeople of the country we're living in."
   ]
  },
  {
   "cell_type": "code",
   "execution_count": 7,
   "metadata": {
    "scrolled": true
   },
   "outputs": [
    {
     "name": "stdout",
     "output_type": "stream",
     "text": [
      "                              OLS Regression Results                              \n",
      "==================================================================================\n",
      "Dep. Variable:     relationship_indicator   R-squared:                       0.037\n",
      "Model:                                OLS   Adj. R-squared:                  0.034\n",
      "Method:                     Least Squares   F-statistic:                     12.32\n",
      "Date:                    Sat, 12 Jun 2021   Prob (F-statistic):           5.61e-06\n",
      "Time:                            22:35:13   Log-Likelihood:                -309.20\n",
      "No. Observations:                     653   AIC:                             624.4\n",
      "Df Residuals:                         650   BIC:                             637.8\n",
      "Df Model:                               2                                         \n",
      "Covariance Type:                nonrobust                                         \n",
      "=====================================================================================\n",
      "                        coef    std err          t      P>|t|      [0.025      0.975]\n",
      "-------------------------------------------------------------------------------------\n",
      "Intercept             0.7721      0.083      9.278      0.000       0.609       0.935\n",
      "Self_made[T.True]     0.1608      0.034      4.705      0.000       0.094       0.228\n",
      "Age                  -0.0012      0.001     -1.092      0.275      -0.003       0.001\n",
      "==============================================================================\n",
      "Omnibus:                      140.866   Durbin-Watson:                   2.163\n",
      "Prob(Omnibus):                  0.000   Jarque-Bera (JB):              239.883\n",
      "Skew:                          -1.470   Prob(JB):                     8.13e-53\n",
      "Kurtosis:                       3.412   Cond. No.                         379.\n",
      "==============================================================================\n",
      "\n",
      "Notes:\n",
      "[1] Standard Errors assume that the covariance matrix of the errors is correctly specified.\n"
     ]
    }
   ],
   "source": [
    "lm1 = smf.ols(formula = 'relationship_indicator ~ Age + Self_made', subset=(df['Country']=='United States'), data = df).fit()\n",
    "print (lm1.summary())"
   ]
  },
  {
   "cell_type": "markdown",
   "metadata": {},
   "source": [
    "### These results make sense to me.  Those who are self-made are more likely to be in a relationship (on average) by .1608 units, net of their age. To build large businesses requires more than just an incredible work ethic. It requires a support network professionally and personally. This logical reasoning is supported by the statistically significant relationship, with the p-value being 0.000 (b = 0.1608, p<0.001)"
   ]
  },
  {
   "cell_type": "markdown",
   "metadata": {},
   "source": []
  },
  {
   "cell_type": "code",
   "execution_count": null,
   "metadata": {},
   "outputs": [],
   "source": []
  },
  {
   "cell_type": "markdown",
   "metadata": {},
   "source": [
    "# 2. Run a multiple (binary) logistic model.  (It can be the same as the above LPM or a new model.)  If it is a new model, tell me how you think your independent variables will affect your dependent variable.  Interpret your results in the logit scale.  Were your expectations correct?  Why or why not?\n"
   ]
  },
  {
   "cell_type": "code",
   "execution_count": 8,
   "metadata": {},
   "outputs": [
    {
     "name": "stdout",
     "output_type": "stream",
     "text": [
      "Optimization terminated successfully.\n",
      "         Current function value: 0.475456\n",
      "         Iterations 6\n",
      "                             Logit Regression Results                             \n",
      "==================================================================================\n",
      "Dep. Variable:     relationship_indicator   No. Observations:                  653\n",
      "Model:                              Logit   Df Residuals:                      650\n",
      "Method:                               MLE   Df Model:                            2\n",
      "Date:                    Sat, 12 Jun 2021   Pseudo R-squ.:                 0.03493\n",
      "Time:                            22:35:14   Log-Likelihood:                -310.47\n",
      "converged:                           True   LL-Null:                       -321.71\n",
      "Covariance Type:                nonrobust   LLR p-value:                 1.318e-05\n",
      "=====================================================================================\n",
      "                        coef    std err          z      P>|z|      [0.025      0.975]\n",
      "-------------------------------------------------------------------------------------\n",
      "Intercept             1.3812      0.559      2.471      0.013       0.286       2.477\n",
      "Self_made[T.True]     0.9369      0.207      4.533      0.000       0.532       1.342\n",
      "Age                  -0.0086      0.008     -1.116      0.264      -0.024       0.006\n",
      "=====================================================================================\n"
     ]
    }
   ],
   "source": [
    "logit1 = sm.formula.logit(formula = 'relationship_indicator ~ Age + Self_made', subset=(df['Country']=='United States'), data = df).fit()\n",
    "print (logit1.summary())"
   ]
  },
  {
   "cell_type": "markdown",
   "metadata": {},
   "source": [
    "### Above are the logit coefficients; In the United States, if the individual is self-made, on average, there is a higher logit of being in a relationship.\n",
    "### For billionaires who are self-made (as opposed to wealthy through inheritance) statistically significantly increases her/his logit by 0.9369 of being in a relationship on average, net of age (p < .001). This is pretty much in line with what I imagined; however, I somewhat expected older people to be more likely to be in a relationship. As it turns out, there is no statistically significant effect of Age on our dependent variable.\n"
   ]
  },
  {
   "cell_type": "code",
   "execution_count": null,
   "metadata": {},
   "outputs": [],
   "source": []
  },
  {
   "cell_type": "markdown",
   "metadata": {},
   "source": [
    "# 3. Get odds ratios from your logit model in Question 2 and interpret some of them.  \n"
   ]
  },
  {
   "cell_type": "code",
   "execution_count": 11,
   "metadata": {},
   "outputs": [
    {
     "data": {
      "text/plain": [
       "Intercept            3.979749\n",
       "Self_made[T.True]    2.552157\n",
       "Age                  0.991459\n",
       "dtype: float64"
      ]
     },
     "execution_count": 11,
     "metadata": {},
     "output_type": "execute_result"
    }
   ],
   "source": [
    "np.exp(logit1.params)"
   ]
  },
  {
   "cell_type": "markdown",
   "metadata": {},
   "source": [
    "### For the odds-ratios above, for the individual that is self-made, the odds that she/he is in a relationship goes up by 155%, net of other factors (age).\n",
    "### For each year older an individual is in age, the odds that he/she is in a relationship goes down by .8% (0.991459-1=-.008541), net of other factors (being self made), so barely at all.\n",
    "\n"
   ]
  },
  {
   "cell_type": "code",
   "execution_count": null,
   "metadata": {},
   "outputs": [],
   "source": []
  },
  {
   "cell_type": "markdown",
   "metadata": {},
   "source": [
    "# 4. Extra Credit: Get predicted probabilities from your logit model in Question 2 for some constellations of X values and interpret the results.  "
   ]
  },
  {
   "cell_type": "code",
   "execution_count": 17,
   "metadata": {},
   "outputs": [],
   "source": [
    "def logit2prob (logit): # Credit to Eirich for this function!\n",
    "    odds = np.exp(logit)\n",
    "    prob = odds / (1 + odds) \n",
    "    return(prob);\n",
    "\n",
    "intercept = logit1.params.Intercept\n",
    "b_selfmade = logit1.params['Self_made[T.True]']\n",
    "b_age = logit1.params.Age"
   ]
  },
  {
   "cell_type": "code",
   "execution_count": null,
   "metadata": {},
   "outputs": [],
   "source": []
  },
  {
   "cell_type": "markdown",
   "metadata": {},
   "source": [
    "## I am going to find out the predicted probability of being in a relationship for a person who is self made (as I hope to be!) and is 23 years old (same age as me!)."
   ]
  },
  {
   "cell_type": "code",
   "execution_count": 19,
   "metadata": {},
   "outputs": [
    {
     "data": {
      "text/plain": [
       "0.8929150906180534"
      ]
     },
     "execution_count": 19,
     "metadata": {},
     "output_type": "execute_result"
    }
   ],
   "source": [
    "## CHOOSE REPRESENTATIVE VALUES FOR ALL Xs ##\n",
    "logits_exh = intercept + (1 * b_selfmade) + (23 * b_age)\n",
    "logit2prob(logits_exh)"
   ]
  },
  {
   "cell_type": "markdown",
   "metadata": {},
   "source": [
    "## A 23-year old self-made billionaire in the US has a 89.29 probability of being in a romantic relationship. Seems high, but not ridiculous!"
   ]
  },
  {
   "cell_type": "markdown",
   "metadata": {},
   "source": [
    "## I am also going to find out the predicted probability of being in a relationship for a person who is NOT self made and is 23 years old (same age as me!)."
   ]
  },
  {
   "cell_type": "code",
   "execution_count": 20,
   "metadata": {},
   "outputs": [
    {
     "data": {
      "text/plain": [
       "0.7547088445205984"
      ]
     },
     "execution_count": 20,
     "metadata": {},
     "output_type": "execute_result"
    }
   ],
   "source": [
    "## CHOOSE REPRESENTATIVE VALUES FOR ALL Xs ##\n",
    "logits_exh = intercept + (0 * b_selfmade) + (30 * b_age)\n",
    "logit2prob(logits_exh) "
   ]
  },
  {
   "cell_type": "markdown",
   "metadata": {},
   "source": [
    "## A 23-year old billionaire who inherited his/her wealth in the US has a 75.47 probability of being in a romantic relationship. A bit lower!"
   ]
  },
  {
   "cell_type": "markdown",
   "metadata": {},
   "source": [
    "## Additionally, I am going to find out the predicted probability of being in a relationship for a person who has average values on the Age X, which happens to be 63.27 years-old and is self-made."
   ]
  },
  {
   "cell_type": "code",
   "execution_count": 23,
   "metadata": {},
   "outputs": [
    {
     "data": {
      "text/plain": [
       "63.267300380228136"
      ]
     },
     "execution_count": 23,
     "metadata": {},
     "output_type": "execute_result"
    }
   ],
   "source": [
    "df.Age.mean()"
   ]
  },
  {
   "cell_type": "code",
   "execution_count": 21,
   "metadata": {},
   "outputs": [
    {
     "data": {
      "text/plain": [
       "0.8551361423018715"
      ]
     },
     "execution_count": 21,
     "metadata": {},
     "output_type": "execute_result"
    }
   ],
   "source": [
    "logits_exh = intercept + (1 * b_selfmade) + (df.Age.mean() * b_age)\n",
    "logit2prob(logits_exh) "
   ]
  },
  {
   "cell_type": "markdown",
   "metadata": {},
   "source": [
    "## Huh! A lower probability than that of the 23 year old!? An average-aged billionaire in the US has a 85.51 probability of being in a romantic relationship. This surprises me because I'd image someone of 63 years would be more likely to have settled down in a relationship than a post-adolescent 23-year-old novice like me!"
   ]
  },
  {
   "cell_type": "code",
   "execution_count": null,
   "metadata": {},
   "outputs": [],
   "source": []
  },
  {
   "cell_type": "markdown",
   "metadata": {},
   "source": [
    "**Disclaimer! I am not _yet_ a billionaire haha"
   ]
  },
  {
   "cell_type": "code",
   "execution_count": null,
   "metadata": {},
   "outputs": [],
   "source": []
  }
 ],
 "metadata": {
  "kernelspec": {
   "display_name": "Python 3",
   "language": "python",
   "name": "python3"
  },
  "language_info": {
   "codemirror_mode": {
    "name": "ipython",
    "version": 3
   },
   "file_extension": ".py",
   "mimetype": "text/x-python",
   "name": "python",
   "nbconvert_exporter": "python",
   "pygments_lexer": "ipython3",
   "version": "3.8.7"
  }
 },
 "nbformat": 4,
 "nbformat_minor": 4
}
