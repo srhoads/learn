{
 "cells": [
  {
   "cell_type": "markdown",
   "metadata": {},
   "source": [
    "Lab #4 ,\n",
    "Arend Matthew, aw3146\n",
    "\n",
    "1. Run a simple regression, with at least two Xs in it, and interpret your results. (Did the results fit your expectations? Why? Why not?)\n",
    "\n",
    "2. Add an interaction term to that model that you think might moderate the original relationship between X1 and X2. Explain why you think an interaction might be present and in what direction it would work. Explain your results. Did it work out? Yes? No?\n",
    "\n",
    "3. Extra Credit: Plot the relationship found in the interaction\n",
    "    \n",
    "    "
   ]
  },
  {
   "cell_type": "code",
   "execution_count": 1,
   "metadata": {},
   "outputs": [],
   "source": [
    "# importing relevant modules...\n",
    "\n",
    "from __future__ import division\n",
    "import pandas as pd\n",
    "import numpy as np\n",
    "import re, os\n",
    "import statsmodels.api as sm\n",
    "import statsmodels.formula.api as smf\n",
    "import matplotlib.pyplot as plt\n",
    "import seaborn as sns #os.system('pip install seaborn')\n",
    "from scipy import stats\n",
    "import pycountry_convert as pc #os.system(\"pip install pycountry-convert\")\n",
    "from colour import Color #os.system('pip install colour')\n",
    "\n",
    "# defining helper functions for later in my code\n",
    "\n",
    "def printurn(x):\n",
    "    print(x)\n",
    "    return(x)\n",
    "\n",
    "def recode_onehot_if(s='CHILDRENS COAT', pattern='CHILDREN'):\n",
    "    result = '1' if pattern in str(s) else '0'\n",
    "    return(result)\n",
    "\n",
    "def check_color(color):\n",
    "    try:\n",
    "        Color(color)\n",
    "        return(True)\n",
    "    except ValueError as e:\n",
    "        return(False)\n",
    "\n",
    "def extract_color(pdcolumn):\n",
    "    pdcolumn = pd.Series(pdcolumn.copy()) if type(pdcolumn)==str else pd.Series(pdcolumn) if type(pdcolumn)==list else pdcolumn\n",
    "    newcolumn = pdcolumn.copy().apply(lambda s: ' '.join([i for i in str(s).split(' ') if check_color(i)]))\n",
    "    return(newcolumn)\n",
    "\n",
    "def compute_percentage(x, my_crosstab):\n",
    "      pct = float(x/my_crosstab['count'].sum()) * 100\n",
    "      return round(pct, 2)"
   ]
  },
  {
   "cell_type": "code",
   "execution_count": 4,
   "metadata": {},
   "outputs": [
    {
     "data": {
      "text/plain": [
       "0"
      ]
     },
     "execution_count": 4,
     "metadata": {},
     "output_type": "execute_result"
    }
   ],
   "source": []
  },
  {
   "cell_type": "code",
   "execution_count": 3,
   "metadata": {},
   "outputs": [
    {
     "ename": "NameError",
     "evalue": "name 'pd' is not defined",
     "output_type": "error",
     "traceback": [
      "\u001b[0;31m---------------------------------------------------------------------------\u001b[0m",
      "\u001b[0;31mNameError\u001b[0m                                 Traceback (most recent call last)",
      "\u001b[0;32m/var/folders/gv/wm0mltx16jv8psy354s6vdm00000gp/T/ipykernel_50971/1278837469.py\u001b[0m in \u001b[0;36m<module>\u001b[0;34m\u001b[0m\n\u001b[1;32m      5\u001b[0m \u001b[0mfilename\u001b[0m \u001b[0;34m=\u001b[0m \u001b[0marchive\u001b[0m\u001b[0;34m.\u001b[0m\u001b[0mfilelist\u001b[0m\u001b[0;34m[\u001b[0m\u001b[0;36m0\u001b[0m\u001b[0;34m]\u001b[0m\u001b[0;34m.\u001b[0m\u001b[0mfilename\u001b[0m\u001b[0;34m\u001b[0m\u001b[0;34m\u001b[0m\u001b[0m\n\u001b[1;32m      6\u001b[0m \u001b[0mxlfile\u001b[0m \u001b[0;34m=\u001b[0m \u001b[0marchive\u001b[0m\u001b[0;34m.\u001b[0m\u001b[0mopen\u001b[0m\u001b[0;34m(\u001b[0m\u001b[0mfilename\u001b[0m\u001b[0;34m)\u001b[0m\u001b[0;34m\u001b[0m\u001b[0;34m\u001b[0m\u001b[0m\n\u001b[0;32m----> 7\u001b[0;31m \u001b[0mdf\u001b[0m \u001b[0;34m=\u001b[0m \u001b[0mpd\u001b[0m\u001b[0;34m.\u001b[0m\u001b[0mread_csv\u001b[0m\u001b[0;34m(\u001b[0m\u001b[0mxlfile\u001b[0m\u001b[0;34m)\u001b[0m\u001b[0;34m\u001b[0m\u001b[0;34m\u001b[0m\u001b[0m\n\u001b[0m",
      "\u001b[0;31mNameError\u001b[0m: name 'pd' is not defined"
     ]
    }
   ],
   "source": [
    "import os \n",
    "# os.system('kaggle datasets download alexanderbader/forbes-billionaires-of-2021-20/forbes_billionaires.csv')\n",
    "import zipfile \n",
    "archive = zipfile.ZipFile('forbes-billionaires-of-2021-20.zip')\n",
    "filename = archive.filelist[0].filename\n",
    "xlfile = archive.open(filename)\n",
    "df = pd.read_csv(xlfile)"
   ]
  },
  {
   "cell_type": "code",
   "execution_count": 1,
   "metadata": {},
   "outputs": [
    {
     "ename": "NameError",
     "evalue": "name 'df' is not defined",
     "output_type": "error",
     "traceback": [
      "\u001b[0;31m---------------------------------------------------------------------------\u001b[0m",
      "\u001b[0;31mNameError\u001b[0m                                 Traceback (most recent call last)",
      "\u001b[0;32m/var/folders/gv/wm0mltx16jv8psy354s6vdm00000gp/T/ipykernel_50971/2226539033.py\u001b[0m in \u001b[0;36m<module>\u001b[0;34m\u001b[0m\n\u001b[0;32m----> 1\u001b[0;31m df = df.assign(education_status = df.Education.str.replace('.*(Drop Out|Bachelor|Master|Doctor|High School).*', '\\\\1', regex=True),\n\u001b[0m\u001b[1;32m      2\u001b[0m                \u001b[0mhigh_ed_grad\u001b[0m \u001b[0;34m=\u001b[0m \u001b[0mdf\u001b[0m\u001b[0;34m.\u001b[0m\u001b[0mEducation\u001b[0m\u001b[0;34m.\u001b[0m\u001b[0mapply\u001b[0m\u001b[0;34m(\u001b[0m\u001b[0;32mlambda\u001b[0m \u001b[0ms\u001b[0m\u001b[0;34m:\u001b[0m \u001b[0;34m'Higher Education Grad'\u001b[0m \u001b[0;32mif\u001b[0m \u001b[0ms\u001b[0m \u001b[0;32min\u001b[0m \u001b[0;34m[\u001b[0m\u001b[0;34m''\u001b[0m\u001b[0;34m]\u001b[0m \u001b[0;32melse\u001b[0m \u001b[0;34m'No Higher Education Grad'\u001b[0m\u001b[0;34m)\u001b[0m\u001b[0;34m,\u001b[0m\u001b[0;34m\u001b[0m\u001b[0;34m\u001b[0m\u001b[0m\n\u001b[1;32m      3\u001b[0m                \u001b[0mrelationship_or_single\u001b[0m \u001b[0;34m=\u001b[0m \u001b[0mdf\u001b[0m\u001b[0;34m.\u001b[0m\u001b[0mStatus\u001b[0m\u001b[0;34m.\u001b[0m\u001b[0mastype\u001b[0m\u001b[0;34m(\u001b[0m\u001b[0mstr\u001b[0m\u001b[0;34m)\u001b[0m\u001b[0;34m.\u001b[0m\u001b[0mreplace\u001b[0m\u001b[0;34m(\u001b[0m\u001b[0;34m{\u001b[0m\u001b[0;34m'(Widowed$|Separated|Single|Divorced).*'\u001b[0m\u001b[0;34m:\u001b[0m\u001b[0;34m'Single'\u001b[0m\u001b[0;34m,\u001b[0m \u001b[0;34m'(Widowed,|In|Married|Engaged|Remarried).*'\u001b[0m\u001b[0;34m:\u001b[0m\u001b[0;34m'In Relationship'\u001b[0m\u001b[0;34m}\u001b[0m\u001b[0;34m,\u001b[0m \u001b[0mregex\u001b[0m\u001b[0;34m=\u001b[0m\u001b[0;32mTrue\u001b[0m\u001b[0;34m)\u001b[0m\u001b[0;34m.\u001b[0m\u001b[0mreplace\u001b[0m\u001b[0;34m(\u001b[0m\u001b[0;34m{\u001b[0m\u001b[0;34m'nan'\u001b[0m\u001b[0;34m:\u001b[0m \u001b[0mnp\u001b[0m\u001b[0;34m.\u001b[0m\u001b[0mnan\u001b[0m\u001b[0;34m}\u001b[0m\u001b[0;34m)\u001b[0m\u001b[0;34m,\u001b[0m\u001b[0;34m\u001b[0m\u001b[0;34m\u001b[0m\u001b[0m\n\u001b[1;32m      4\u001b[0m               )\n\u001b[1;32m      5\u001b[0m \u001b[0mprint\u001b[0m\u001b[0;34m(\u001b[0m\u001b[0mdf\u001b[0m\u001b[0;34m.\u001b[0m\u001b[0mStatus\u001b[0m\u001b[0;34m.\u001b[0m\u001b[0mvalue_counts\u001b[0m\u001b[0;34m(\u001b[0m\u001b[0;34m)\u001b[0m\u001b[0;34m)\u001b[0m\u001b[0;34m\u001b[0m\u001b[0;34m\u001b[0m\u001b[0m\n",
      "\u001b[0;31mNameError\u001b[0m: name 'df' is not defined"
     ]
    }
   ],
   "source": [
    "df = df.assign(education_status = df.Education.str.replace('.*(Drop Out|Bachelor|Master|Doctor|High School).*', '\\\\1', regex=True),\n",
    "               high_ed_grad = df.Education.apply(lambda s: 'Higher Education Grad' if s in [''] else 'No Higher Education Grad'),\n",
    "               relationship_or_single = df.Status.astype(str).replace({'(Widowed$|Separated|Single|Divorced).*':'Single', '(Widowed,|In|Married|Engaged|Remarried).*':'In Relationship'}, regex=True).replace({'nan': np.nan}),\n",
    "              )\n",
    "print(df.Status.value_counts())\n",
    "print(df.relationship_or_single.value_counts())\n",
    "print(df.education_status.value_counts())\n",
    "df"
   ]
  },
  {
   "cell_type": "markdown",
   "metadata": {},
   "source": [
    "## 1. Run a simple regression, with at least two Xs in it, and interpret your results. (Did the results fit your expectations? Why? Why not?)"
   ]
  },
  {
   "cell_type": "markdown",
   "metadata": {},
   "source": [
    "Does age of the individual and country that the individual works/lives in predict the net worth amongst billionaires in this data set above? \n",
    "My initial hypothesis is that individuals who live in the US and who are older have a higher net worth. But regardless of country, I predict that the older the individual, who on a general scale has more experience in business and in his industry, would have a higher his net worth. "
   ]
  },
  {
   "cell_type": "code",
   "execution_count": 62,
   "metadata": {},
   "outputs": [
    {
     "name": "stdout",
     "output_type": "stream",
     "text": [
      "                            OLS Regression Results                            \n",
      "==============================================================================\n",
      "Dep. Variable:               NetWorth   R-squared:                       0.008\n",
      "Model:                            OLS   Adj. R-squared:                  0.006\n",
      "Method:                 Least Squares   F-statistic:                     5.026\n",
      "Date:                Sat, 05 Jun 2021   Prob (F-statistic):            0.00669\n",
      "Time:                        19:29:57   Log-Likelihood:                -5009.7\n",
      "No. Observations:                1297   AIC:                         1.003e+04\n",
      "Df Residuals:                    1294   BIC:                         1.004e+04\n",
      "Df Model:                           2                                         \n",
      "Covariance Type:            nonrobust                                         \n",
      "===============================================================================================\n",
      "                                  coef    std err          t      P>|t|      [0.025      0.975]\n",
      "-----------------------------------------------------------------------------------------------\n",
      "Intercept                       5.5764      1.567      3.558      0.000       2.502       8.651\n",
      "C(Country)[T.United States]     2.1920      0.694      3.160      0.002       0.831       3.553\n",
      "Age                            -0.0252      0.027     -0.949      0.343      -0.077       0.027\n",
      "==============================================================================\n",
      "Omnibus:                     1792.540   Durbin-Watson:                   0.028\n",
      "Prob(Omnibus):                  0.000   Jarque-Bera (JB):           358027.676\n",
      "Skew:                           7.776   Prob(JB):                         0.00\n",
      "Kurtosis:                      82.895   Cond. No.                         309.\n",
      "==============================================================================\n",
      "\n",
      "Notes:\n",
      "[1] Standard Errors assume that the covariance matrix of the errors is correctly specified.\n"
     ]
    }
   ],
   "source": [
    "lm1 = smf.ols(formula = 'NetWorth ~ Age + C(Country)', data = df, subset = ((df['Country']== 'United States') | (df['Country']== 'China')) ).fit()\n",
    "print(lm1.summary())"
   ]
  },
  {
   "cell_type": "markdown",
   "metadata": {},
   "source": [
    "Based on the OLS Regression results above, keeping age constant, the average individual in the United States has 2.1920 billion dollars more than the average individual in China, and this result is statistically significant as the p-value is 0.002 (b=2.1920, p<0.01). Furthermore, restricted to the United States alone, for every year older the individual is in the United States, the individual has 0.0252 billion dollars less. In other words, that is 25.2 million dollars less. However, this result is not statistically significant because the p-value is 0.343, which is way above the statistically significant value threshold of 0.05. (b=-0.0252, p=0.343). Despite the insigificant results, in reality  we saw the greatest bull market in american history from tech startups being listed on the New York Stock Exchange. Furthermore, the American Economy is still larger than the Chinese economy by at least 7 trillion, and this data set was inculcated for the 2021 list. However, we cannot validate such a claim since the results above show a non-statistically significant value."
   ]
  },
  {
   "cell_type": "code",
   "execution_count": null,
   "metadata": {},
   "outputs": [],
   "source": []
  },
  {
   "cell_type": "code",
   "execution_count": 63,
   "metadata": {},
   "outputs": [
    {
     "name": "stdout",
     "output_type": "stream",
     "text": [
      "                            OLS Regression Results                            \n",
      "==============================================================================\n",
      "Dep. Variable:               NetWorth   R-squared:                       0.001\n",
      "Model:                            OLS   Adj. R-squared:                 -0.000\n",
      "Method:                 Least Squares   F-statistic:                    0.6568\n",
      "Date:                Sat, 05 Jun 2021   Prob (F-statistic):              0.519\n",
      "Time:                        19:30:03   Log-Likelihood:                -7787.4\n",
      "No. Observations:                2058   AIC:                         1.558e+04\n",
      "Df Residuals:                    2055   BIC:                         1.560e+04\n",
      "Df Model:                           2                                         \n",
      "Covariance Type:            nonrobust                                         \n",
      "=======================================================================================================\n",
      "                                          coef    std err          t      P>|t|      [0.025      0.975]\n",
      "-------------------------------------------------------------------------------------------------------\n",
      "Intercept                               4.1047      1.183      3.471      0.001       1.786       6.424\n",
      "C(relationship_or_single)[T.Single]     0.4733      0.650      0.728      0.467      -0.802       1.748\n",
      "Age                                     0.0152      0.018      0.859      0.390      -0.020       0.050\n",
      "==============================================================================\n",
      "Omnibus:                     2907.926   Durbin-Watson:                   0.011\n",
      "Prob(Omnibus):                  0.000   Jarque-Bera (JB):           738412.237\n",
      "Skew:                           8.206   Prob(JB):                         0.00\n",
      "Kurtosis:                      94.334   Cond. No.                         336.\n",
      "==============================================================================\n",
      "\n",
      "Notes:\n",
      "[1] Standard Errors assume that the covariance matrix of the errors is correctly specified.\n"
     ]
    }
   ],
   "source": [
    "lm2 = smf.ols(formula = 'NetWorth ~ Age + C(relationship_or_single)', data = df, subset = ((df['relationship_or_single']== 'In Relationship') | (df['relationship_or_single']== 'Single'))).fit()\n",
    "print(lm2.summary())"
   ]
  },
  {
   "cell_type": "markdown",
   "metadata": {},
   "source": [
    "## 2. Add an interaction term to that model that you think might moderate the original relationship between X1 and X2. Explain why you think an interaction might be present and in what direction it would work. Explain your results. Did it work out? Yes? No?\n"
   ]
  },
  {
   "cell_type": "markdown",
   "metadata": {},
   "source": [
    "#### we added in relationship status (single versus being in a relationship) as the interaction term because we believe there is a high possibility for the conditions of the billionaire's personal life (emotional dependence and stability etc) to affect his net worth and hence ranking on the billionaire's list on df, regardless of country. This is based on my personal experience in my own life and with observing my parents' relationship, that it is quintesential to have a partner to rely on so as to increase in focus on my job and increase my wealth. (You can't do it all alone!!) The hypothesis for this question is that if the billionaire is in a relationship (engaged, married), and is older, he is likely to have a higher net worth. "
   ]
  },
  {
   "cell_type": "code",
   "execution_count": 64,
   "metadata": {},
   "outputs": [
    {
     "name": "stdout",
     "output_type": "stream",
     "text": [
      "                            OLS Regression Results                            \n",
      "==============================================================================\n",
      "Dep. Variable:               NetWorth   R-squared:                       0.001\n",
      "Model:                            OLS   Adj. R-squared:                 -0.001\n",
      "Method:                 Least Squares   F-statistic:                    0.5447\n",
      "Date:                Sat, 05 Jun 2021   Prob (F-statistic):              0.652\n",
      "Time:                        19:30:39   Log-Likelihood:                -7787.3\n",
      "No. Observations:                2058   AIC:                         1.558e+04\n",
      "Df Residuals:                    2054   BIC:                         1.561e+04\n",
      "Df Model:                           3                                         \n",
      "Covariance Type:            nonrobust                                         \n",
      "===========================================================================================================\n",
      "                                              coef    std err          t      P>|t|      [0.025      0.975]\n",
      "-----------------------------------------------------------------------------------------------------------\n",
      "Intercept                                   4.4410      1.323      3.356      0.001       1.846       7.036\n",
      "C(relationship_or_single)[T.Single]        -1.1608      2.957     -0.393      0.695      -6.960       4.638\n",
      "Age                                         0.0101      0.020      0.505      0.614      -0.029       0.049\n",
      "Age:C(relationship_or_single)[T.Single]     0.0247      0.044      0.566      0.571      -0.061       0.110\n",
      "==============================================================================\n",
      "Omnibus:                     2907.344   Durbin-Watson:                   0.011\n",
      "Prob(Omnibus):                  0.000   Jarque-Bera (JB):           737784.633\n",
      "Skew:                           8.203   Prob(JB):                         0.00\n",
      "Kurtosis:                      94.295   Cond. No.                         872.\n",
      "==============================================================================\n",
      "\n",
      "Notes:\n",
      "[1] Standard Errors assume that the covariance matrix of the errors is correctly specified.\n"
     ]
    }
   ],
   "source": [
    "lm3 = smf.ols(formula = 'NetWorth ~ Age * C(relationship_or_single)', data = df, subset = ((df['relationship_or_single']== 'In Relationship') | (df['relationship_or_single']== 'Single'))).fit()\n",
    "print (lm3.summary())"
   ]
  },
  {
   "cell_type": "markdown",
   "metadata": {},
   "source": [
    "We measured the interaction between the billionaire's relationship status and their age on the billionaire's net worth.\n",
    "\n",
    "Our findings suggest that as age increases, the individual's net worth is higher (on average) by $0.0247 billion when the individual is romantically single, as opposed to in a relationship. However, this result is not statistically significant as p=0.571 , which is way above the statistically significant value threshold of 0.05 (b=0.0247, p=0.571). Thus, there is no evidence that age or relationship status, when interacting together, play a part in determining the net worth of a billionaire. Despite the insigificant results, we saw more young tech billionaire's in their 20s and 30s such as Mark Zuckerberg, Evan spiegel etc. who have a revolutionary technology idea and manage to list their company on the New York Stock Exchange after a founding period of just 3-4 years. And specifically with these two tech founders, they were both engaged early in their lives and while running Facebook, Snapchat. However, we cannot validate such a claim since the results above show a non-statistically significant value."
   ]
  },
  {
   "cell_type": "markdown",
   "metadata": {},
   "source": [
    "## 3. Extra Credit: Plot the relationship found in the interaction\n"
   ]
  },
  {
   "cell_type": "code",
   "execution_count": 65,
   "metadata": {},
   "outputs": [
    {
     "data": {
      "image/png": "[encoded data removed]",
      "text/plain": [
       "<Figure size 432x288 with 1 Axes>"
      ]
     },
     "metadata": {
      "needs_background": "light"
     },
     "output_type": "display_data"
    }
   ],
   "source": [
    "plt.plot(df[\"Age\"], lm3.params[0] + lm3.params[1] * 1 + lm3.params[2] * df[\"Age\"] + lm3.params[3] * 1 * df[\"Age\"], 'b', label = 'America', alpha = 0.9)\n",
    "plt.plot(df[\"Age\"], lm3.params[0] + lm3.params[1] * 0 + lm3.params[2] * df[\"Age\"] + lm3.params[3] * 0 * df[\"Age\"], 'r', label = 'China', alpha = 0.9)\n",
    "plt.title(\"NetWorth, Single (Relationship) vs. Single (blue)\")\n",
    "plt.xlabel(\"Age of Billionaire!!\")\n",
    "plt.ylabel(\"NetWorth\")\n",
    "plt.show()"
   ]
  },
  {
   "cell_type": "code",
   "execution_count": 57,
   "metadata": {},
   "outputs": [
    {
     "name": "stdout",
     "output_type": "stream",
     "text": [
      "Intercept..... b= 4.441038483025078\n",
      "C(relationship_or_single)[T.Single]..... b= -1.1607941296230246\n",
      "Age..... b= 0.010069931591618926\n",
      "interaction..... b= 0.024710191336097927\n"
     ]
    }
   ],
   "source": [
    "print(\"Intercept..... b=\", lm3.params[0])\n",
    "print(\"C(relationship_or_single)[T.Single]..... b=\", lm3.params[1])\n",
    "print(\"Age..... b=\", lm3.params[2])\n",
    "print(\"interaction..... b=\", lm3.params[3])"
   ]
  },
  {
   "cell_type": "code",
   "execution_count": null,
   "metadata": {},
   "outputs": [],
   "source": []
  }
 ],
 "metadata": {
  "kernelspec": {
   "display_name": "Python 3 (ipykernel)",
   "language": "python",
   "name": "python3"
  },
  "language_info": {
   "codemirror_mode": {
    "name": "ipython",
    "version": 3
   },
   "file_extension": ".py",
   "mimetype": "text/x-python",
   "name": "python",
   "nbconvert_exporter": "python",
   "pygments_lexer": "ipython3",
   "version": "3.8.10"
  }
 },
 "nbformat": 4,
 "nbformat_minor": 4
}
