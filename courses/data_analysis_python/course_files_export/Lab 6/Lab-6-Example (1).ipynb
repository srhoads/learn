{
 "cells": [
  {
   "cell_type": "markdown",
   "metadata": {},
   "source": [
    "## Gregory M. Eirich\n",
    "## Example \n",
    "## Lab #6"
   ]
  },
  {
   "cell_type": "markdown",
   "metadata": {},
   "source": [
    "# Lab 6 Examples\n",
    "\n",
    "\n",
    "## 1. Run a naive (\"pooled\") OLS regression on the panel data.  Tell we how you expect your Xs to affect your Y and why.   Interpret your results.\n",
    "\n",
    "## 2. Run a first differences regression on the same model in Question 1.  Interpret your results.  Do you draw a different conclusion than in Question 1?  Explain.\n"
   ]
  },
  {
   "cell_type": "code",
   "execution_count": 4,
   "metadata": {},
   "outputs": [
    {
     "name": "stdout",
     "output_type": "stream",
     "text": [
      "Collecting linearmodels\n",
      "  Downloading https://files.pythonhosted.org/packages/a1/27/592a87ad829c7ba10d32854afc928e6f0f078985c2f8048d42b51540c2de/linearmodels-4.12-py2.py3-none-any.whl (952kB)\n",
      "Requirement already satisfied: patsy in c:\\users\\gme2101\\anaconda3\\lib\\site-packages (from linearmodels) (0.5.1)\n",
      "Collecting cached-property>=1.5.1 (from linearmodels)\n",
      "  Downloading https://files.pythonhosted.org/packages/3b/86/85c1be2e8db9e13ef9a350aecd6dea292bd612fa288c2f40d035bb750ded/cached_property-1.5.1-py2.py3-none-any.whl\n",
      "Requirement already satisfied: pandas>=0.19 in c:\\users\\gme2101\\anaconda3\\lib\\site-packages (from linearmodels) (0.24.2)\n",
      "Requirement already satisfied: numpy>=1.11 in c:\\users\\gme2101\\anaconda3\\lib\\site-packages (from linearmodels) (1.16.2)\n",
      "Requirement already satisfied: scipy>=0.18 in c:\\users\\gme2101\\anaconda3\\lib\\site-packages (from linearmodels) (1.2.1)\n",
      "Requirement already satisfied: statsmodels>=0.8 in c:\\users\\gme2101\\anaconda3\\lib\\site-packages (from linearmodels) (0.9.0)\n",
      "Requirement already satisfied: six in c:\\users\\gme2101\\anaconda3\\lib\\site-packages (from patsy->linearmodels) (1.12.0)\n",
      "Requirement already satisfied: pytz>=2011k in c:\\users\\gme2101\\anaconda3\\lib\\site-packages (from pandas>=0.19->linearmodels) (2018.9)\n",
      "Requirement already satisfied: python-dateutil>=2.5.0 in c:\\users\\gme2101\\anaconda3\\lib\\site-packages (from pandas>=0.19->linearmodels) (2.8.0)\n",
      "Installing collected packages: cached-property, linearmodels\n",
      "Successfully installed cached-property-1.5.1 linearmodels-4.12\n",
      "Note: you may need to restart the kernel to use updated packages.\n"
     ]
    }
   ],
   "source": [
    "pip install linearmodels"
   ]
  },
  {
   "cell_type": "code",
   "execution_count": 2,
   "metadata": {},
   "outputs": [],
   "source": [
    "from __future__ import division\n",
    "import pandas as pd\n",
    "import numpy as np\n",
    "import statsmodels.api as sm\n",
    "import statsmodels.formula.api as smf\n",
    "import os\n",
    "import matplotlib.pyplot as plt\n",
    "import linearmodels as lm\n",
    "\n",
    "from linearmodels import PanelOLS\n",
    "from linearmodels import RandomEffects\n",
    "from linearmodels import FirstDifferenceOLS"
   ]
  },
  {
   "cell_type": "markdown",
   "metadata": {},
   "source": [
    "## Use the GSS Panel in Folder for Lab 6 on Courseworks."
   ]
  },
  {
   "cell_type": "code",
   "execution_count": 3,
   "metadata": {},
   "outputs": [
    {
     "data": {
      "text/html": [
       "<div>\n",
       "<style scoped>\n",
       "    .dataframe tbody tr th:only-of-type {\n",
       "        vertical-align: middle;\n",
       "    }\n",
       "\n",
       "    .dataframe tbody tr th {\n",
       "        vertical-align: top;\n",
       "    }\n",
       "\n",
       "    .dataframe thead th {\n",
       "        text-align: right;\n",
       "    }\n",
       "</style>\n",
       "<table border=\"1\" class=\"dataframe\">\n",
       "  <thead>\n",
       "    <tr style=\"text-align: right;\">\n",
       "      <th></th>\n",
       "      <th>idnum</th>\n",
       "      <th>panelwave</th>\n",
       "      <th>ballot</th>\n",
       "      <th>form</th>\n",
       "      <th>formwt</th>\n",
       "      <th>oversamp</th>\n",
       "      <th>sample</th>\n",
       "      <th>panstat_2</th>\n",
       "      <th>panstat_3</th>\n",
       "      <th>mar1</th>\n",
       "      <th>...</th>\n",
       "      <th>wtpan12</th>\n",
       "      <th>wtpan123</th>\n",
       "      <th>wtpannr12</th>\n",
       "      <th>wtpannr123</th>\n",
       "      <th>xmarsex</th>\n",
       "      <th>xmovie</th>\n",
       "      <th>xnorcsiz</th>\n",
       "      <th>year</th>\n",
       "      <th>yearval</th>\n",
       "      <th>zodiac</th>\n",
       "    </tr>\n",
       "  </thead>\n",
       "  <tbody>\n",
       "    <tr>\n",
       "      <th>0</th>\n",
       "      <td>9</td>\n",
       "      <td>1</td>\n",
       "      <td>3</td>\n",
       "      <td>2</td>\n",
       "      <td>1</td>\n",
       "      <td>1</td>\n",
       "      <td>9</td>\n",
       "      <td>1</td>\n",
       "      <td>1</td>\n",
       "      <td>5.0</td>\n",
       "      <td>...</td>\n",
       "      <td>0.414689</td>\n",
       "      <td>0.487828</td>\n",
       "      <td>0.435503</td>\n",
       "      <td>0.470575</td>\n",
       "      <td>1.0</td>\n",
       "      <td>2.0</td>\n",
       "      <td>1.0</td>\n",
       "      <td>2006.0</td>\n",
       "      <td>NaN</td>\n",
       "      <td>9.0</td>\n",
       "    </tr>\n",
       "    <tr>\n",
       "      <th>1</th>\n",
       "      <td>9</td>\n",
       "      <td>2</td>\n",
       "      <td>3</td>\n",
       "      <td>2</td>\n",
       "      <td>1</td>\n",
       "      <td>1</td>\n",
       "      <td>9</td>\n",
       "      <td>1</td>\n",
       "      <td>1</td>\n",
       "      <td>5.0</td>\n",
       "      <td>...</td>\n",
       "      <td>0.414689</td>\n",
       "      <td>0.487828</td>\n",
       "      <td>0.435503</td>\n",
       "      <td>0.470575</td>\n",
       "      <td>1.0</td>\n",
       "      <td>1.0</td>\n",
       "      <td>1.0</td>\n",
       "      <td>2008.0</td>\n",
       "      <td>NaN</td>\n",
       "      <td>9.0</td>\n",
       "    </tr>\n",
       "    <tr>\n",
       "      <th>2</th>\n",
       "      <td>9</td>\n",
       "      <td>3</td>\n",
       "      <td>3</td>\n",
       "      <td>2</td>\n",
       "      <td>1</td>\n",
       "      <td>1</td>\n",
       "      <td>9</td>\n",
       "      <td>1</td>\n",
       "      <td>1</td>\n",
       "      <td>1.0</td>\n",
       "      <td>...</td>\n",
       "      <td>0.414689</td>\n",
       "      <td>0.487828</td>\n",
       "      <td>0.435503</td>\n",
       "      <td>0.470575</td>\n",
       "      <td>1.0</td>\n",
       "      <td>1.0</td>\n",
       "      <td>1.0</td>\n",
       "      <td>2010.0</td>\n",
       "      <td>NaN</td>\n",
       "      <td>9.0</td>\n",
       "    </tr>\n",
       "    <tr>\n",
       "      <th>3</th>\n",
       "      <td>10</td>\n",
       "      <td>1</td>\n",
       "      <td>1</td>\n",
       "      <td>1</td>\n",
       "      <td>1</td>\n",
       "      <td>1</td>\n",
       "      <td>9</td>\n",
       "      <td>1</td>\n",
       "      <td>1</td>\n",
       "      <td>5.0</td>\n",
       "      <td>...</td>\n",
       "      <td>0.829377</td>\n",
       "      <td>0.858741</td>\n",
       "      <td>0.766632</td>\n",
       "      <td>0.828371</td>\n",
       "      <td>1.0</td>\n",
       "      <td>NaN</td>\n",
       "      <td>1.0</td>\n",
       "      <td>2006.0</td>\n",
       "      <td>NaN</td>\n",
       "      <td>3.0</td>\n",
       "    </tr>\n",
       "    <tr>\n",
       "      <th>4</th>\n",
       "      <td>10</td>\n",
       "      <td>2</td>\n",
       "      <td>1</td>\n",
       "      <td>1</td>\n",
       "      <td>1</td>\n",
       "      <td>1</td>\n",
       "      <td>9</td>\n",
       "      <td>1</td>\n",
       "      <td>1</td>\n",
       "      <td>5.0</td>\n",
       "      <td>...</td>\n",
       "      <td>0.829377</td>\n",
       "      <td>0.858741</td>\n",
       "      <td>0.766632</td>\n",
       "      <td>0.828371</td>\n",
       "      <td>1.0</td>\n",
       "      <td>NaN</td>\n",
       "      <td>1.0</td>\n",
       "      <td>2008.0</td>\n",
       "      <td>NaN</td>\n",
       "      <td>3.0</td>\n",
       "    </tr>\n",
       "  </tbody>\n",
       "</table>\n",
       "<p>5 rows × 628 columns</p>\n",
       "</div>"
      ],
      "text/plain": [
       "   idnum  panelwave  ballot  form  formwt  oversamp  sample  panstat_2  \\\n",
       "0      9          1       3     2       1         1       9          1   \n",
       "1      9          2       3     2       1         1       9          1   \n",
       "2      9          3       3     2       1         1       9          1   \n",
       "3     10          1       1     1       1         1       9          1   \n",
       "4     10          2       1     1       1         1       9          1   \n",
       "\n",
       "   panstat_3  mar1  ...   wtpan12  wtpan123  wtpannr12  wtpannr123  xmarsex  \\\n",
       "0          1   5.0  ...  0.414689  0.487828   0.435503    0.470575      1.0   \n",
       "1          1   5.0  ...  0.414689  0.487828   0.435503    0.470575      1.0   \n",
       "2          1   1.0  ...  0.414689  0.487828   0.435503    0.470575      1.0   \n",
       "3          1   5.0  ...  0.829377  0.858741   0.766632    0.828371      1.0   \n",
       "4          1   5.0  ...  0.829377  0.858741   0.766632    0.828371      1.0   \n",
       "\n",
       "   xmovie  xnorcsiz    year  yearval  zodiac  \n",
       "0     2.0       1.0  2006.0      NaN     9.0  \n",
       "1     1.0       1.0  2008.0      NaN     9.0  \n",
       "2     1.0       1.0  2010.0      NaN     9.0  \n",
       "3     NaN       1.0  2006.0      NaN     3.0  \n",
       "4     NaN       1.0  2008.0      NaN     3.0  \n",
       "\n",
       "[5 rows x 628 columns]"
      ]
     },
     "execution_count": 3,
     "metadata": {},
     "output_type": "execute_result"
    }
   ],
   "source": [
    "os.chdir('C:/Users/gme2101/Desktop/Data Analysis Data/') # change working directory\n",
    "\n",
    "g = pd.read_csv(\"panel-for-R.csv\") ## choose \"panel-for-R.csv\" and more information on variables are here: http://sda.berkeley.edu/sdaweb/analysis/?dataset=gss06panelw3 ##\n",
    "\n",
    "g.head()"
   ]
  },
  {
   "cell_type": "markdown",
   "metadata": {},
   "source": [
    "## Making some recodes on race, interviewer's race and opinions on affirmative action."
   ]
  },
  {
   "cell_type": "code",
   "execution_count": 4,
   "metadata": {},
   "outputs": [],
   "source": [
    "## this is if the person is black or not\n",
    "\n",
    "conditions = [\n",
    "    (g['race'] ==2) ,\n",
    "     ((g['race'] ==1) | (g['race']==3))]\n",
    "choices = [1,0]\n",
    "g['black'] = np.select(conditions, choices, default=np.nan)"
   ]
  },
  {
   "cell_type": "code",
   "execution_count": 5,
   "metadata": {},
   "outputs": [
    {
     "data": {
      "text/plain": [
       "0.0    4139\n",
       "1.0     673\n",
       "Name: black, dtype: int64"
      ]
     },
     "execution_count": 5,
     "metadata": {},
     "output_type": "execute_result"
    }
   ],
   "source": [
    "g.black.value_counts()"
   ]
  },
  {
   "cell_type": "code",
   "execution_count": 6,
   "metadata": {},
   "outputs": [],
   "source": [
    "## this is if the interviewer is black or not\n",
    "\n",
    "conditions = [\n",
    "    (g['intrace1'] ==2) ,\n",
    "     ((g['intrace1'] ==1) | (g['intrace1']==3))]\n",
    "choices = [1,0]\n",
    "g['intblack'] = np.select(conditions, choices, default=np.nan)"
   ]
  },
  {
   "cell_type": "code",
   "execution_count": 7,
   "metadata": {
    "scrolled": true
   },
   "outputs": [
    {
     "data": {
      "text/plain": [
       "0.0    3952\n",
       "1.0     629\n",
       "Name: intblack, dtype: int64"
      ]
     },
     "execution_count": 7,
     "metadata": {},
     "output_type": "execute_result"
    }
   ],
   "source": [
    "g.intblack.value_counts()"
   ]
  },
  {
   "cell_type": "markdown",
   "metadata": {},
   "source": [
    "## Reverse code how people feel about your opinion \"Do you favor preference in hiring and promotion strongly or not strongly for blacks? If opposes: Do you oppose preference in hiring and promotion strongly or not strongly?\" ranging from strong support to strong opposition"
   ]
  },
  {
   "cell_type": "code",
   "execution_count": 8,
   "metadata": {
    "scrolled": false
   },
   "outputs": [],
   "source": [
    "## this is how people feel about What about your opinion \"Do you favor preference in hiring and promotion strongly or not strongly for blacks? If opposes: Do you oppose preference in hiring and promotion strongly or not strongly?\" ranging from strong support to strong opposition\n",
    "\n",
    "g['r_affact'] = 5-g['affrmact'] \n",
    "\n",
    "## now, higher scores mean someone is more supportive of affirmative action"
   ]
  },
  {
   "cell_type": "code",
   "execution_count": 10,
   "metadata": {
    "scrolled": true
   },
   "outputs": [
    {
     "data": {
      "text/plain": [
       "1.0    1620\n",
       "2.0     860\n",
       "4.0     292\n",
       "3.0     242\n",
       "Name: r_affact, dtype: int64"
      ]
     },
     "execution_count": 10,
     "metadata": {},
     "output_type": "execute_result"
    }
   ],
   "source": [
    "g.r_affact.value_counts()"
   ]
  },
  {
   "cell_type": "markdown",
   "metadata": {},
   "source": [
    "## 1. Run a naive (\"pooled\") OLS regression on the panel data.  Tell we how you expect your Xs to affect your Y and why.   Interpret your results.\n",
    "\n",
    "## The question is net of race, does being interviewed in person by an African American make Americans more inclined to support affirmative action hiring?"
   ]
  },
  {
   "cell_type": "code",
   "execution_count": 11,
   "metadata": {
    "scrolled": true
   },
   "outputs": [
    {
     "name": "stdout",
     "output_type": "stream",
     "text": [
      "                            OLS Regression Results                            \n",
      "==============================================================================\n",
      "Dep. Variable:               r_affact   R-squared:                       0.084\n",
      "Model:                            OLS   Adj. R-squared:                  0.083\n",
      "Method:                 Least Squares   F-statistic:                     130.6\n",
      "Date:                Tue, 25 Jun 2019   Prob (F-statistic):           5.18e-55\n",
      "Time:                        12:21:07   Log-Likelihood:                -3847.4\n",
      "No. Observations:                2862   AIC:                             7701.\n",
      "Df Residuals:                    2859   BIC:                             7719.\n",
      "Df Model:                           2                                         \n",
      "Covariance Type:            nonrobust                                         \n",
      "==============================================================================\n",
      "                 coef    std err          t      P>|t|      [0.025      0.975]\n",
      "------------------------------------------------------------------------------\n",
      "Intercept      1.5992      0.019     83.013      0.000       1.561       1.637\n",
      "black          0.6309      0.054     11.577      0.000       0.524       0.738\n",
      "intblack       0.3195      0.055      5.857      0.000       0.213       0.427\n",
      "==============================================================================\n",
      "Omnibus:                      391.831   Durbin-Watson:                   1.463\n",
      "Prob(Omnibus):                  0.000   Jarque-Bera (JB):              566.946\n",
      "Skew:                           1.072   Prob(JB):                    7.75e-124\n",
      "Kurtosis:                       3.395   Cond. No.                         3.79\n",
      "==============================================================================\n",
      "\n",
      "Warnings:\n",
      "[1] Standard Errors assume that the covariance matrix of the errors is correctly specified.\n"
     ]
    }
   ],
   "source": [
    "lm_ols = smf.ols(formula = 'r_affact ~ black + intblack', data = g).fit()\n",
    "print (lm_ols.summary())"
   ]
  },
  {
   "cell_type": "markdown",
   "metadata": {},
   "source": [
    "## As can be seen, African Americans are more inclined to be in favor of affirmative action, but also, regardless of race, if someone is interviewed by an African American, they become more supportive too."
   ]
  },
  {
   "cell_type": "markdown",
   "metadata": {},
   "source": [
    "## 2. Run a first differences regression on the same model in Question 1.  Interpret your results.  Do you draw a different conclusion than in Question 1?  Explain."
   ]
  },
  {
   "cell_type": "code",
   "execution_count": 12,
   "metadata": {},
   "outputs": [
    {
     "name": "stderr",
     "output_type": "stream",
     "text": [
      "C:\\Users\\gme2101\\Anaconda3\\lib\\site-packages\\linearmodels\\utility.py:476: MissingValueWarning: \n",
      "Inputs contain missing values. Dropping rows with missing observations.\n",
      "  warnings.warn(missing_value_warning_msg, MissingValueWarning)\n"
     ]
    },
    {
     "name": "stdout",
     "output_type": "stream",
     "text": [
      "                     FirstDifferenceOLS Estimation Summary                      \n",
      "================================================================================\n",
      "Dep. Variable:               r_affact   R-squared:                        0.0014\n",
      "Estimator:         FirstDifferenceOLS   R-squared (Between):              0.0288\n",
      "No. Observations:                1561   R-squared (Within):               0.0037\n",
      "Date:                Tue, Jun 25 2019   R-squared (Overall):              0.0267\n",
      "Time:                        12:21:33   Log-likelihood                   -2141.0\n",
      "Cov. Estimator:             Clustered                                           \n",
      "                                        F-statistic:                      1.1293\n",
      "Entities:                        1272   P-value                           0.3235\n",
      "Avg Obs:                       2.2500   Distribution:                  F(2,1559)\n",
      "Min Obs:                       1.0000                                           \n",
      "Max Obs:                       3.0000   F-statistic (robust):             0.5898\n",
      "                                        P-value                           0.5546\n",
      "Time periods:                       3   Distribution:                  F(2,1559)\n",
      "Avg Obs:                       954.00                                           \n",
      "Min Obs:                       749.00                                           \n",
      "Max Obs:                       1189.0                                           \n",
      "                                                                                \n",
      "                             Parameter Estimates                              \n",
      "==============================================================================\n",
      "            Parameter  Std. Err.     T-stat    P-value    Lower CI    Upper CI\n",
      "------------------------------------------------------------------------------\n",
      "black          0.0837     0.3781     0.2213     0.8249     -0.6580      0.8254\n",
      "intblack       0.0858     0.0815     1.0527     0.2926     -0.0741      0.2457\n",
      "==============================================================================\n"
     ]
    }
   ],
   "source": [
    "g = g.set_index(['idnum', 'panelwave'])\n",
    "lm_fd = FirstDifferenceOLS.from_formula('r_affact ~ black + intblack', g)\n",
    "res_fd = lm_fd.fit(cov_type='clustered', cluster_entity=True)\n",
    "print(res_fd)"
   ]
  },
  {
   "cell_type": "markdown",
   "metadata": {},
   "source": [
    "## When we look to see what happens if someone switches from having an non-African-American interviewer to having an African-American interviewer, they do become slightly more supportive of affirmative action, but not statistically significantly so (p=0.29).  By the way, if someone switches from identifying as non-African-American to then identifying as African-American (which likely doesn't happen much), they become a bit more supportive of affirmative action, but not statistically significantly so (p=0.82)."
   ]
  }
 ],
 "metadata": {
  "kernelspec": {
   "display_name": "Python 3",
   "language": "python",
   "name": "python3"
  },
  "language_info": {
   "codemirror_mode": {
    "name": "ipython",
    "version": 3
   },
   "file_extension": ".py",
   "mimetype": "text/x-python",
   "name": "python",
   "nbconvert_exporter": "python",
   "pygments_lexer": "ipython3",
   "version": "3.7.3"
  }
 },
 "nbformat": 4,
 "nbformat_minor": 1
}
