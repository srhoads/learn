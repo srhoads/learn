{
 "cells": [
  {
   "cell_type": "markdown",
   "id": "45237f52-2440-4c17-ab54-35790edddc91",
   "metadata": {},
   "source": [
    "# <b style=\"color: #151151\">Lab 2 - Arend Wong (aw3146) - 2021-05-21<b>"
   ]
  },
  {
   "cell_type": "markdown",
   "id": "782c4ab7-31ef-48b6-a6ee-8441633d4918",
   "metadata": {},
   "source": [
    "<i style='color: blue;'>\n",
    "Due Monday by 11:59pm Points 100 Submitting a website url or a file upload\n",
    "Lab #2\n",
    "\n",
    "1. Recode 2 different variables into new categories. They can both be continuous-ish or both be nominal-ish, or one of each. Tell me what you did and explain the variable(s).\n",
    "\n",
    "2. Use one (or both) of your recoded variables to do a cross-tabulation. Explain your results.\n",
    "\n",
    "3. Run a linear regression with 1 independent and 1 dependent variable; make all of the recodes necessary to make the model as easy to interpret as possible; and explain your results.\n",
    "\n",
    "4. Plot two variables, either as a scatter plot or boxplot; add in trend/regression lines; and explain your results.\n",
    "</i>\n"
   ]
  },
  {
   "cell_type": "code",
   "execution_count": 6,
   "id": "a2815e90-b908-4780-be51-e9dce21b7d5b",
   "metadata": {},
   "outputs": [],
   "source": [
    "import pandas as pd\n",
    "import numpy as np\n",
    "import re"
   ]
  },
  {
   "cell_type": "code",
   "execution_count": 4,
   "id": "b26469e8-f905-4da9-967a-d179d720e267",
   "metadata": {},
   "outputs": [],
   "source": [
    "# Read CSV into a dataframe\n",
    "url = \"https://raw.githubusercontent.com/the-pudding/data/master/pockets/measurements.csv\"\n",
    "df = pd.read_csv(url) # https://github.com/the-pudding/data/blob/master/pockets/measurements.csv"
   ]
  },
  {
   "cell_type": "code",
   "execution_count": null,
   "id": "4b6cae0d-bd5d-4041-b516-dbb0fe1a694e",
   "metadata": {},
   "outputs": [],
   "source": []
  }
 ],
 "metadata": {
  "kernelspec": {
   "display_name": "Python 3",
   "language": "python",
   "name": "python3"
  },
  "language_info": {
   "codemirror_mode": {
    "name": "ipython",
    "version": 3
   },
   "file_extension": ".py",
   "mimetype": "text/x-python",
   "name": "python",
   "nbconvert_exporter": "python",
   "pygments_lexer": "ipython3",
   "version": "3.8.7"
  }
 },
 "nbformat": 4,
 "nbformat_minor": 5
}
